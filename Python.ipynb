{
 "cells": [
  {
   "cell_type": "markdown",
   "id": "951ce893",
   "metadata": {},
   "source": [
    "# Array Operation"
   ]
  },
  {
   "cell_type": "markdown",
   "id": "591e3438",
   "metadata": {},
   "source": [
    "## Sum of array"
   ]
  },
  {
   "cell_type": "code",
   "execution_count": 1,
   "id": "7588d5b0",
   "metadata": {},
   "outputs": [
    {
     "name": "stdout",
     "output_type": "stream",
     "text": [
      "50\n",
      "50\n"
     ]
    }
   ],
   "source": [
    "'''\n",
    "Input : arr[] = {1, 2, 3}\n",
    "Output : 6\n",
    "1 + 2 + 3 = 6\n",
    "\n",
    "Input : arr[] = {15, 12, 13, 10}\n",
    "Output : 50\n",
    "'''\n",
    "\n",
    "arr = [15, 12, 13, 10]\n",
    "sum_1 = 0\n",
    "\n",
    "for i in arr:\n",
    "    sum_1 += i\n",
    "print(sum_1)\n",
    "\n",
    "print(sum(arr))"
   ]
  },
  {
   "cell_type": "markdown",
   "id": "ab03dde8",
   "metadata": {},
   "source": [
    "## To find largest element in an array"
   ]
  },
  {
   "cell_type": "code",
   "execution_count": 2,
   "id": "3c47d831",
   "metadata": {},
   "outputs": [
    {
     "name": "stdout",
     "output_type": "stream",
     "text": [
      "100\n",
      "100\n"
     ]
    }
   ],
   "source": [
    "\n",
    "'''\n",
    "Input : arr[] = {10, 20, 4}\n",
    "Output : 20\n",
    "\n",
    "Input : arr[] = {20, 10, 20, 4, 100}\n",
    "Output : 100\n",
    "'''\n",
    "\n",
    "def nlargest(arr):\n",
    "    n_largest = 0\n",
    "    for i in arr:\n",
    "        if i > n_largest:\n",
    "            n_largest = i\n",
    "\n",
    "    return n_largest\n",
    "\n",
    "print(nlargest(arr=[20, 10, 20, 4, 100]))\n",
    "\n",
    "print(max([20, 10, 20, 4, 100]))"
   ]
  },
  {
   "cell_type": "markdown",
   "id": "9b04e628",
   "metadata": {},
   "source": [
    "## Array rotation"
   ]
  },
  {
   "cell_type": "code",
   "execution_count": 3,
   "id": "197d9318",
   "metadata": {},
   "outputs": [
    {
     "name": "stdout",
     "output_type": "stream",
     "text": [
      "[3, 4, 5, 6, 1, 2]\n",
      "Rotated list is\n",
      "[3, 4, 5, 6, 1, 2]\n"
     ]
    }
   ],
   "source": [
    "'''\n",
    "Input : arr[] = [1, 2, 3, 4, 5, 6], n=1\n",
    "Output = [2,3,4,5,6,1]\n",
    "\n",
    "\n",
    "Input : arr[] = [1, 2, 3, 4, 5, 6], n=2\n",
    "Output : [3,4,5,6,1,2]\n",
    "'''\n",
    "\n",
    "#Solution 1\n",
    "\n",
    "def rotation(arr, num):\n",
    "    count = 0\n",
    "    temp = []\n",
    "    num_1  = num\n",
    "\n",
    "    while (num_1 < len(arr)):\n",
    "        temp.append(arr[num_1])\n",
    "        num_1 = num_1 + 1\n",
    "\n",
    "    while(count < num):\n",
    "        temp.append(arr[count])\n",
    "        count = count + 1\n",
    "    return temp\n",
    "\n",
    "print(rotation(arr=[1, 2, 3, 4, 5, 6], num=2))\n",
    "\n",
    "# Solution 2 :\n",
    "def rotateList(arr,d,n):\n",
    "  arr[:]=arr[d:n]+arr[0:d]\n",
    "  return arr\n",
    "\n",
    "\n",
    "arr = [1, 2, 3, 4, 5, 6]\n",
    "\n",
    "print(\"Rotated list is\")\n",
    "print(rotateList(arr,2,len(arr)))"
   ]
  },
  {
   "cell_type": "markdown",
   "id": "cb59118e",
   "metadata": {},
   "source": [
    "## To find Reversal algorithm for array rotation"
   ]
  },
  {
   "cell_type": "code",
   "execution_count": 4,
   "id": "69fd1e96",
   "metadata": {},
   "outputs": [
    {
     "name": "stdout",
     "output_type": "stream",
     "text": [
      "[7, 6, 5, 4, 3, 2, 1]\n"
     ]
    }
   ],
   "source": [
    "'''\n",
    "Input :  arr[] = [1, 2, 3, 4, 5, 6, 7]\n",
    "         d = 2\n",
    "Output : arr[] = [3, 4, 5, 6, 7, 1, 2] \n",
    "'''\n",
    "\n",
    "def rotation(arr):\n",
    "    rotateList = []\n",
    "    arr_len = len(arr)\n",
    "    for i in range(arr_len, -1, -1):\n",
    "        if i != 0:\n",
    "            rotateList.append(i)\n",
    "    print(rotateList)\n",
    "    \n",
    "rotation(arr=[1, 2, 3, 4, 5, 6, 7])"
   ]
  },
  {
   "cell_type": "markdown",
   "id": "1a44ce26",
   "metadata": {},
   "source": [
    "## Spilt Array"
   ]
  },
  {
   "cell_type": "code",
   "execution_count": 5,
   "id": "b9903b27",
   "metadata": {},
   "outputs": [
    {
     "name": "stdout",
     "output_type": "stream",
     "text": [
      "[5, 6, 52, 36, 12, 10]\n"
     ]
    }
   ],
   "source": [
    "'''\n",
    "Input : arr[] = {12, 10, 5, 6, 52, 36}\n",
    "            k = 2\n",
    "Output : arr[] = {5, 6, 52, 36, 12, 10}\n",
    "Explanation : Split from index 2 and first \n",
    "part {12, 10} add to the end .\n",
    "\n",
    "Input : arr[] = {3, 1, 2}\n",
    "           k = 1\n",
    "Output : arr[] = {1, 2, 3}\n",
    "Explanation : Split from index 1 and first\n",
    "part add to the end.\n",
    "'''\n",
    "\n",
    "def split_arr(arr, k):\n",
    "    return arr[k:len(arr)] + arr[0:k]\n",
    "\n",
    "print(split_arr(arr=[12, 10, 5, 6, 52, 36], k=2))"
   ]
  },
  {
   "cell_type": "markdown",
   "id": "debb603f",
   "metadata": {},
   "source": [
    "## Find remainder of array multiplication divided by n"
   ]
  },
  {
   "cell_type": "code",
   "execution_count": 6,
   "id": "9a0de734",
   "metadata": {},
   "outputs": [
    {
     "name": "stdout",
     "output_type": "stream",
     "text": [
      "9\n"
     ]
    }
   ],
   "source": [
    "'''\n",
    "Input : arr[] = {100, 10, 5, 25, 35, 14}, \n",
    "            \n",
    "            n = 11\n",
    "\n",
    "Output : 9\n",
    "100 x 10 x 5 x 25 x 35 x 14 = 61250000 % 11 = 9\n",
    "'''\n",
    "\n",
    "def find_remainder(arr, n):\n",
    "    temp = 1\n",
    "    for i in arr:\n",
    "        temp *= i\n",
    "        \n",
    "    temp = temp % 11\n",
    "    return temp\n",
    "        \n",
    "print(find_remainder(arr=[100, 10, 5, 25, 35, 14], n=11))"
   ]
  },
  {
   "cell_type": "markdown",
   "id": "2244aaa5",
   "metadata": {},
   "source": [
    "## To check if given array is Monotonic"
   ]
  },
  {
   "cell_type": "code",
   "execution_count": 7,
   "id": "144128e4",
   "metadata": {},
   "outputs": [
    {
     "name": "stdout",
     "output_type": "stream",
     "text": [
      "True\n",
      "False\n"
     ]
    }
   ],
   "source": [
    "''' \n",
    "Input : 6 5 4 4\n",
    "Output : true\n",
    "\n",
    "Input : 5 15 20 10\n",
    "Output : false\n",
    "\n",
    "'''\n",
    "def is_array_monotonic(arr):\n",
    "    temp_array = []\n",
    "    for i in arr:\n",
    "        if i in temp_array:\n",
    "            return True\n",
    "        else: \n",
    "            temp_array.append(i)\n",
    "        \n",
    "    return False\n",
    "\n",
    "print(is_array_monotonic(arr=[6, 5, 4, 4]))\n",
    "print(is_array_monotonic(arr=[5, 15, 20, 10]))"
   ]
  },
  {
   "cell_type": "markdown",
   "id": "b8d6630b",
   "metadata": {},
   "source": [
    "# List"
   ]
  },
  {
   "cell_type": "markdown",
   "id": "d75c1379",
   "metadata": {},
   "source": [
    "## To interchange first and last elements in a list"
   ]
  },
  {
   "cell_type": "code",
   "execution_count": 8,
   "id": "1ba85028",
   "metadata": {},
   "outputs": [
    {
     "name": "stdout",
     "output_type": "stream",
     "text": [
      "[24, 35, 9, 56, 12]\n"
     ]
    }
   ],
   "source": [
    "'''\n",
    "Input : [12, 35, 9, 56, 24]\n",
    "Output : [24, 35, 9, 56, 12]\n",
    "\n",
    "Input : [1, 2, 3]\n",
    "Output : [3, 2, 1] \n",
    "\n",
    "'''\n",
    "\n",
    "# Swap function\n",
    "def swapList(newList):\n",
    "    size = len(newList)\n",
    "    \n",
    "    # Swapping \n",
    "    temp = newList[0]\n",
    "    newList[0] = newList[size - 1]\n",
    "    newList[size - 1] = temp\n",
    "    \n",
    "    return newList\n",
    "      \n",
    "# Driver code\n",
    "newList = [12, 35, 9, 56, 24]\n",
    "  \n",
    "\n",
    "    # Swap function\n",
    "def swapList(newList):\n",
    "      \n",
    "    newList[0], newList[-1] = newList[-1], newList[0]\n",
    "  \n",
    "    return newList\n",
    "      \n",
    "# Driver code\n",
    "newList = [12, 35, 9, 56, 24]\n",
    "print(swapList(newList))\n"
   ]
  },
  {
   "cell_type": "markdown",
   "id": "b28a6051",
   "metadata": {},
   "source": [
    "## To swap two elements in a list"
   ]
  },
  {
   "cell_type": "code",
   "execution_count": 9,
   "id": "a06c29e3",
   "metadata": {},
   "outputs": [
    {
     "name": "stdout",
     "output_type": "stream",
     "text": [
      "[1, 5, 3, 4, 2]\n"
     ]
    }
   ],
   "source": [
    "''' Input : List = [23, 65, 19, 90], pos1 = 1, pos2 = 3\n",
    "Output : [19, 65, 23, 90]\n",
    "\n",
    "Input : List = [1, 2, 3, 4, 5], pos1 = 2, pos2 = 5\n",
    "Output : [1, 5, 3, 4, 2] '''\n",
    "\n",
    "def swap(arr, pos1, pos2):\n",
    "    arr[pos1-1], arr[pos2-1] = arr[pos2-1], arr[pos1-1]\n",
    "    return  arr\n",
    "\n",
    "print(swap([1, 2, 3, 4, 5], 2, 5))\n"
   ]
  },
  {
   "cell_type": "markdown",
   "id": "bd3f938a",
   "metadata": {},
   "source": [
    "## Ways to find length of list"
   ]
  },
  {
   "cell_type": "code",
   "execution_count": 10,
   "id": "69b52a19",
   "metadata": {},
   "outputs": [
    {
     "name": "stdout",
     "output_type": "stream",
     "text": [
      "5\n",
      "5\n"
     ]
    }
   ],
   "source": [
    "arr = [1, 5, 3, 4, 2]\n",
    "\n",
    "# Solution 1\n",
    "count = 0\n",
    "for i in arr:\n",
    "    count +=1\n",
    "    \n",
    "print(count)\n",
    "print(len(arr))\n"
   ]
  },
  {
   "cell_type": "markdown",
   "id": "11ce3d8a",
   "metadata": {},
   "source": [
    "## Clear List"
   ]
  },
  {
   "cell_type": "code",
   "execution_count": 11,
   "id": "d0a17ba4",
   "metadata": {},
   "outputs": [
    {
     "name": "stdout",
     "output_type": "stream",
     "text": [
      "arr ===>  []\n",
      "arr ===>  []\n"
     ]
    }
   ],
   "source": [
    "arr = [1, 5, 3, 4, 2]\n",
    "\n",
    "arr.clear()\n",
    "print(\"arr ===> \", arr)\n",
    "\n",
    "arr = [1, 5, 3, 4, 2]\n",
    "arr *= 0\n",
    "print(\"arr ===> \", arr)"
   ]
  },
  {
   "cell_type": "markdown",
   "id": "577542c6",
   "metadata": {},
   "source": [
    "## Reverse List"
   ]
  },
  {
   "cell_type": "code",
   "execution_count": 12,
   "id": "ba7510f9",
   "metadata": {},
   "outputs": [
    {
     "name": "stdout",
     "output_type": "stream",
     "text": [
      "[15, 14, 13, 12, 11, 10]\n"
     ]
    }
   ],
   "source": [
    "# Reversing a list using reversed()\n",
    "def Reverse(lst):\n",
    "    return [ele for ele in reversed(lst)]\n",
    "      \n",
    "# Driver Code\n",
    "lst = [10, 11, 12, 13, 14, 15]\n",
    "print(Reverse(lst))"
   ]
  },
  {
   "cell_type": "code",
   "execution_count": 13,
   "id": "60fbff01",
   "metadata": {},
   "outputs": [
    {
     "name": "stdout",
     "output_type": "stream",
     "text": [
      "[15, 14, 13, 12, 11, 10]\n"
     ]
    }
   ],
   "source": [
    "# Reversing a list using reverse()\n",
    "def Reverse(lst):\n",
    "    lst.reverse()\n",
    "    return lst\n",
    "      \n",
    "lst = [10, 11, 12, 13, 14, 15]\n",
    "print(Reverse(lst))"
   ]
  },
  {
   "cell_type": "code",
   "execution_count": 14,
   "id": "ddf286a8",
   "metadata": {},
   "outputs": [
    {
     "name": "stdout",
     "output_type": "stream",
     "text": [
      "[15, 14, 13, 12, 11, 10]\n"
     ]
    }
   ],
   "source": [
    "# Reversing a list using slicing technique\n",
    "def Reverse(lst):\n",
    "    new_lst = lst[::-1]\n",
    "    return new_lst\n",
    "      \n",
    "lst = [10, 11, 12, 13, 14, 15]\n",
    "print(Reverse(lst))"
   ]
  },
  {
   "cell_type": "markdown",
   "id": "68dc561a",
   "metadata": {},
   "source": [
    "## Multiply "
   ]
  },
  {
   "cell_type": "code",
   "execution_count": 15,
   "id": "82453356",
   "metadata": {},
   "outputs": [
    {
     "data": {
      "text/plain": [
       "24"
      ]
     },
     "execution_count": 15,
     "metadata": {},
     "output_type": "execute_result"
    }
   ],
   "source": [
    "import numpy as np\n",
    "\n",
    "l1 = [1, 2, 3, 4]\n",
    "l2 = [1, 2, 3, 4]\n",
    "\n",
    "np.prod(l1)"
   ]
  },
  {
   "cell_type": "markdown",
   "id": "cf7dd741",
   "metadata": {},
   "source": [
    "## to find smallest number in a list"
   ]
  },
  {
   "cell_type": "code",
   "execution_count": 16,
   "id": "957b4c53",
   "metadata": {},
   "outputs": [
    {
     "name": "stdout",
     "output_type": "stream",
     "text": [
      "22\n",
      "22\n"
     ]
    }
   ],
   "source": [
    "arr  = [33, 34, 66, 78, 22, 88] \n",
    "\n",
    "temp = arr[0]\n",
    "for i in arr:\n",
    "    if i < temp:\n",
    "        temp = i\n",
    "\n",
    "print(temp)\n",
    "print(min(arr))\n"
   ]
  },
  {
   "cell_type": "markdown",
   "id": "ba992a52",
   "metadata": {},
   "source": [
    "## Max Number in List "
   ]
  },
  {
   "cell_type": "code",
   "execution_count": 17,
   "id": "fb9640c9",
   "metadata": {},
   "outputs": [
    {
     "name": "stdout",
     "output_type": "stream",
     "text": [
      "88\n",
      "88\n"
     ]
    }
   ],
   "source": [
    "arr  = [33, 34, 66, 78, 22, 88] \n",
    "\n",
    "temp = arr[0]\n",
    "for i in arr:\n",
    "    if i > temp:\n",
    "        temp = i\n",
    "\n",
    "print(temp)\n",
    "print(max(arr))\n"
   ]
  },
  {
   "cell_type": "markdown",
   "id": "13e11906",
   "metadata": {},
   "source": [
    "## Second Largest Number"
   ]
  },
  {
   "cell_type": "code",
   "execution_count": 18,
   "id": "09673f57",
   "metadata": {},
   "outputs": [
    {
     "name": "stdout",
     "output_type": "stream",
     "text": [
      "88\n",
      "88\n"
     ]
    }
   ],
   "source": [
    "'''\n",
    "Input: list1 = [10, 20, 4]\n",
    "Output: 10\n",
    "\n",
    "Input: list2 = [70, 11, 20, 4, 100]\n",
    "Output: 70\n",
    "'''\n",
    "\n",
    "def second_largest(arr):\n",
    "    first = arr[0]\n",
    "    second = arr[1]\n",
    "    count = 0\n",
    "    \n",
    "    if first > second: \n",
    "        first = arr[1]\n",
    "        second = arr[0]\n",
    "    \n",
    "    for i in arr:\n",
    "       if i > first:\n",
    "        second = first\n",
    "        first = i\n",
    "       elif i > second:\n",
    "        second = i\n",
    "    \n",
    "    return second\n",
    "\n",
    "print(second_largest(arr = [33, 34, 66, 78, 22, 88, 12, 98] ))\n",
    "\n",
    "\n",
    "\n",
    "arr1 = [33, 34, 66, 78, 22, 88, 12, 98]\n",
    "arr1.sort()\n",
    "print(arr1[-2])"
   ]
  },
  {
   "cell_type": "code",
   "execution_count": 19,
   "id": "4bacecae",
   "metadata": {},
   "outputs": [
    {
     "name": "stdout",
     "output_type": "stream",
     "text": [
      "Second largest element is: 45\n"
     ]
    }
   ],
   "source": [
    "# list of numbers\n",
    "list1 = [10, 20, 4, 45, 99]\n",
    " \n",
    "# sorting the list\n",
    "list1.sort()\n",
    " \n",
    "# printing the second last element\n",
    "print(\"Second largest element is:\", list1[-2])"
   ]
  },
  {
   "cell_type": "markdown",
   "id": "55674a9f",
   "metadata": {},
   "source": [
    "## Find Nth Largest"
   ]
  },
  {
   "cell_type": "code",
   "execution_count": 20,
   "id": "9b42d3f3",
   "metadata": {},
   "outputs": [
    {
     "name": "stdout",
     "output_type": "stream",
     "text": [
      "[200, 298, 900, 1000, 3579]\n"
     ]
    }
   ],
   "source": [
    "l = [1000,298,3579,100,200,-45,900]\n",
    "n = 5\n",
    "  \n",
    "l.sort()\n",
    "print(l[-n:])"
   ]
  },
  {
   "cell_type": "markdown",
   "id": "2a266f05",
   "metadata": {},
   "source": [
    "## Remove empty List from List"
   ]
  },
  {
   "cell_type": "code",
   "execution_count": 29,
   "id": "893b0803",
   "metadata": {},
   "outputs": [
    {
     "name": "stdout",
     "output_type": "stream",
     "text": [
      "[5, 6, 3, 9]\n",
      "[5, 6, 3, 9]\n",
      "[5, 6, 3, 9]\n"
     ]
    }
   ],
   "source": [
    "# Initializing list \n",
    "arr = [5, 6, [], 3, [], [], 9]\n",
    "\n",
    "#1\n",
    "arr_temp = []\n",
    "for i in arr:\n",
    "    if i != []:\n",
    "        arr_temp.append(i)\n",
    "#2               \n",
    "arr_temp1 = [i for i in arr if i != []]\n",
    "\n",
    "\n",
    "#3\n",
    "arr_temp2 = list(filter(None, arr))\n",
    "\n",
    "\n",
    "\n",
    "print(arr_temp)\n",
    "print(arr_temp1)\n",
    "print(arr_temp2)"
   ]
  },
  {
   "cell_type": "markdown",
   "id": "8b57bd59",
   "metadata": {},
   "source": [
    "## Cloning or Copying List"
   ]
  },
  {
   "cell_type": "code",
   "execution_count": 31,
   "id": "cdcc573c",
   "metadata": {},
   "outputs": [
    {
     "name": "stdout",
     "output_type": "stream",
     "text": [
      "Original List: [4, 8, 2, 10, 15, 18]\n",
      "After Cloning: [4, 8, 2, 10, 15, 18]\n",
      "Original List: [4, 8, 2, 10, 15, 18]\n",
      "After Cloning: [4, 8, 2, 10, 15, 18]\n"
     ]
    }
   ],
   "source": [
    "#1\n",
    "def Cloning(li1):\n",
    "    li_copy = li1[:]\n",
    "    return li_copy\n",
    "  \n",
    "\n",
    "# Driver Code\n",
    "li1 = [4, 8, 2, 10, 15, 18]\n",
    "\n",
    "li2 = Cloning(li1)\n",
    "print(\"Original List:\", li1)\n",
    "print(\"After Cloning:\", li2)\n",
    "\n",
    "#2\n",
    "def Cloning(li1):\n",
    "    li_copy = []\n",
    "    li_copy.extend(li1)\n",
    "    return li_copy\n",
    "  \n",
    "# Driver Code\n",
    "li1 = [4, 8, 2, 10, 15, 18]\n",
    "li2 = Cloning(li1)\n",
    "print(\"Original List:\", li1)\n",
    "print(\"After Cloning:\", li2)"
   ]
  },
  {
   "cell_type": "code",
   "execution_count": 40,
   "id": "2354f9f0",
   "metadata": {},
   "outputs": [
    {
     "name": "stdout",
     "output_type": "stream",
     "text": [
      "3\n",
      "0\n",
      "3\n",
      "0\n",
      "d    Counter({1: 2, 2: 2, 3: 2, 4: 2, 5: 2})\n",
      "3 has occurred 2 times\n"
     ]
    }
   ],
   "source": [
    "'''\n",
    "Input : lst = [15, 6, 7, 10, 12, 20, 10, 28, 10]\n",
    "         x = 10\n",
    "Output : 3 \n",
    "10 appears three times in given list.\n",
    "\n",
    "Input : lst = [8, 6, 8, 10, 8, 20, 10, 8, 8]\n",
    "        x = 16\n",
    "Output : 0 '''\n",
    "\n",
    "\n",
    "#1\n",
    "def occurances(arr, ele):\n",
    "    count = 0\n",
    "    if ele not in arr:\n",
    "        return count;\n",
    "    else:    \n",
    "        for i in arr:\n",
    "            if i == ele:\n",
    "                count += 1\n",
    "    return count\n",
    "    \n",
    "print(occurances([15, 6, 7, 10, 12, 20, 10, 28, 10], 10))\n",
    "print(occurances([8, 6, 8, 10, 8, 20, 10, 8, 8], 16))\n",
    "\n",
    "\n",
    "#2\n",
    "def occurances_1(arr, ele):\n",
    "    return arr.count(ele)\n",
    "\n",
    "print(occurances_1([15, 6, 7, 10, 12, 20, 10, 28, 10], 10))\n",
    "print(occurances([8, 6, 8, 10, 8, 20, 10, 8, 8], 16))\n",
    "\n",
    "\n",
    "#3\n",
    "from collections import Counter\n",
    "\n",
    "l = [1, 1, 2, 2, 3, 3, 4, 4, 5, 5] \n",
    "\n",
    "x = 3\n",
    "d = Counter(l)\n",
    "print(\"d   \", d)\n",
    "print('{} has occurred {} times'.format(x, d[x]))\n",
    "\n"
   ]
  },
  {
   "cell_type": "markdown",
   "id": "e0843529",
   "metadata": {},
   "source": [
    "## "
   ]
  },
  {
   "cell_type": "code",
   "execution_count": 53,
   "id": "42949f85",
   "metadata": {},
   "outputs": [
    {
     "name": "stdout",
     "output_type": "stream",
     "text": [
      "('ram', '15', '8')\n",
      "('laxman', 'sita')\n",
      "('krishna', 'akbar', '45')\n",
      "('', '')\n",
      "[('ram', '15', '8'), ('laxman', 'sita'), ('krishna', 'akbar', '45'), ('', '')]\n",
      "<filter object at 0x7fe88854e950>\n"
     ]
    }
   ],
   "source": [
    "''' Input : tuples = [(), ('ram','15','8'), (), ('laxman', 'sita'), \n",
    "                  ('krishna', 'akbar', '45'), ('',''),()]\n",
    "Output : [('ram', '15', '8'), ('laxman', 'sita'), \n",
    "          ('krishna', 'akbar', '45'), ('', '')]\n",
    "\n",
    "Input : tuples = [('','','8'), (), ('0', '00', '000'), \n",
    "                 ('birbal', '', '45'), (''), (),  ('',''),()]\n",
    "Output : [('', '', '8'), ('0', '00', '000'), ('birbal', '', '45'), ('', '')]'''\n",
    "\n",
    "tup = [(), ('ram','15','8'), (), ('laxman', 'sita'), ('krishna', 'akbar', '45'), ('',''),()]\n",
    "\n",
    "for i in tup:\n",
    "    if i != ():\n",
    "        print(i)\n",
    "\n",
    "        \n",
    "\n",
    "tup1 = [t for t in tup if t]\n",
    "print(tup1)\n",
    "\n",
    "\n",
    "def Remove(tuples):\n",
    "    tuples = filter(None, tuples)\n",
    "    return tuples\n",
    "  \n",
    "# Driver Code\n",
    "tuples = [(), ('ram','15','8'), (), ('laxman', 'sita'), ('krishna', 'akbar', '45'), ('',''),()]\n",
    "print(Remove(tuples))"
   ]
  },
  {
   "cell_type": "markdown",
   "id": "c27400b0",
   "metadata": {},
   "source": [
    "## To print duplicates from a list of integers"
   ]
  },
  {
   "cell_type": "code",
   "execution_count": 57,
   "id": "9c0d7adf",
   "metadata": {},
   "outputs": [
    {
     "name": "stdout",
     "output_type": "stream",
     "text": [
      "20\n",
      "30\n",
      "-20\n",
      "60\n",
      "None\n"
     ]
    }
   ],
   "source": [
    "'''\n",
    "Input : list = [10, 20, 30, 20, 20, 30, 40, 50, -20, 60, 60, -20, -20]\n",
    "Output : output_list = [20, 30, -20, 60]\n",
    "\n",
    "\n",
    "Input :  list = [-1, 1, -1, 8]\n",
    "Output : output_list = [-1]'''\n",
    "\n",
    "\n",
    "from collections import Counter\n",
    "\n",
    "def find_dup(arr):\n",
    "    dict = Counter(arr)\n",
    "    for key, value in dict.items():\n",
    "        if value > 1:\n",
    "            print(key)\n",
    "\n",
    "print(find_dup([10, 20, 30, 20, 20, 30, 40, 50, -20, 60, 60, -20, -20]))\n",
    "    \n"
   ]
  },
  {
   "cell_type": "markdown",
   "id": "4b27413d",
   "metadata": {},
   "source": [
    "## To find Cumulative sum of a list"
   ]
  },
  {
   "cell_type": "code",
   "execution_count": 59,
   "id": "cd0e534a",
   "metadata": {},
   "outputs": [
    {
     "name": "stdout",
     "output_type": "stream",
     "text": [
      "[10, 30, 60, 100, 150]\n",
      "[4, 14, 29, 47, 67]\n"
     ]
    }
   ],
   "source": [
    "'''\n",
    "Input : list = [10, 20, 30, 40, 50]\n",
    "Output : [10, 30, 60, 100, 150]\n",
    "\n",
    "Input : list = [4, 10, 15, 18, 20]\n",
    "Output : [4, 14, 29, 47, 67]\n",
    "\n",
    "'''\n",
    "\n",
    "def cum_sum(arr):\n",
    "    sum = 0\n",
    "    arr_temp = []\n",
    "    for ele in arr:\n",
    "        sum += ele\n",
    "        arr_temp.append(sum)\n",
    "\n",
    "    return arr_temp\n",
    "    \n",
    "\n",
    "    \n",
    "print(cum_sum([10, 20, 30, 40, 50]))\n",
    "print(cum_sum([4, 10, 15, 18, 20]))"
   ]
  },
  {
   "cell_type": "code",
   "execution_count": null,
   "id": "525293c8",
   "metadata": {},
   "outputs": [],
   "source": []
  }
 ],
 "metadata": {
  "kernelspec": {
   "display_name": "Python 3",
   "language": "python",
   "name": "python3"
  },
  "language_info": {
   "codemirror_mode": {
    "name": "ipython",
    "version": 3
   },
   "file_extension": ".py",
   "mimetype": "text/x-python",
   "name": "python",
   "nbconvert_exporter": "python",
   "pygments_lexer": "ipython3",
   "version": "3.7.6"
  },
  "toc": {
   "base_numbering": 1,
   "nav_menu": {},
   "number_sections": true,
   "sideBar": true,
   "skip_h1_title": false,
   "title_cell": "Table of Contents",
   "title_sidebar": "Contents",
   "toc_cell": false,
   "toc_position": {},
   "toc_section_display": true,
   "toc_window_display": true
  }
 },
 "nbformat": 4,
 "nbformat_minor": 5
}
