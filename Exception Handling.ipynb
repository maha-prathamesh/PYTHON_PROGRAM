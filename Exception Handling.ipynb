{
 "cells": [
  {
   "cell_type": "code",
   "execution_count": 2,
   "id": "9ff0998e",
   "metadata": {},
   "outputs": [
    {
     "ename": "SyntaxError",
     "evalue": "invalid syntax (<ipython-input-2-b3bdfdd04ae7>, line 6)",
     "output_type": "error",
     "traceback": [
      "\u001b[0;36m  File \u001b[0;32m\"<ipython-input-2-b3bdfdd04ae7>\"\u001b[0;36m, line \u001b[0;32m6\u001b[0m\n\u001b[0;31m    if(amount > 2999)\u001b[0m\n\u001b[0m                     ^\u001b[0m\n\u001b[0;31mSyntaxError\u001b[0m\u001b[0;31m:\u001b[0m invalid syntax\n"
     ]
    }
   ],
   "source": [
    "\n",
    "# initialize the amount variable\n",
    "amount = 10000\n",
    "  \n",
    "# check that You are eligible to\n",
    "#  purchase Dsa Self Paced or not\n",
    "if(amount > 2999)\n",
    "    print(\"You are eligible to purchase Dsa Self Paced\")\n"
   ]
  },
  {
   "cell_type": "code",
   "execution_count": 3,
   "id": "24370e42",
   "metadata": {},
   "outputs": [
    {
     "ename": "ZeroDivisionError",
     "evalue": "division by zero",
     "output_type": "error",
     "traceback": [
      "\u001b[0;31m---------------------------------------------------------------------------\u001b[0m",
      "\u001b[0;31mZeroDivisionError\u001b[0m                         Traceback (most recent call last)",
      "\u001b[0;32m<ipython-input-3-757d9509a65c>\u001b[0m in \u001b[0;36m<module>\u001b[0;34m\u001b[0m\n\u001b[1;32m      3\u001b[0m \u001b[0;34m\u001b[0m\u001b[0m\n\u001b[1;32m      4\u001b[0m \u001b[0;31m# perform division with 0\u001b[0m\u001b[0;34m\u001b[0m\u001b[0;34m\u001b[0m\u001b[0;34m\u001b[0m\u001b[0m\n\u001b[0;32m----> 5\u001b[0;31m \u001b[0ma\u001b[0m \u001b[0;34m=\u001b[0m \u001b[0mmarks\u001b[0m \u001b[0;34m/\u001b[0m \u001b[0;36m0\u001b[0m\u001b[0;34m\u001b[0m\u001b[0;34m\u001b[0m\u001b[0m\n\u001b[0m\u001b[1;32m      6\u001b[0m \u001b[0mprint\u001b[0m\u001b[0;34m(\u001b[0m\u001b[0ma\u001b[0m\u001b[0;34m)\u001b[0m\u001b[0;34m\u001b[0m\u001b[0;34m\u001b[0m\u001b[0m\n",
      "\u001b[0;31mZeroDivisionError\u001b[0m: division by zero"
     ]
    }
   ],
   "source": [
    "\n",
    "# initialize the amount variable\n",
    "marks = 10000\n",
    "  \n",
    "# perform division with 0\n",
    "a = marks / 0\n",
    "print(a)"
   ]
  },
  {
   "cell_type": "markdown",
   "id": "8e096ef3",
   "metadata": {},
   "source": [
    "# Try and Except in Exception Handling"
   ]
  },
  {
   "cell_type": "code",
   "execution_count": 9,
   "id": "9958260c",
   "metadata": {},
   "outputs": [
    {
     "name": "stdout",
     "output_type": "stream",
     "text": [
      "Second element =  2\n",
      "An error occurred\n"
     ]
    }
   ],
   "source": [
    "# Python program to handle simple runtime error\n",
    "  \n",
    "a = [1, 2, 3]\n",
    "try: \n",
    "    print(\"Second element = \" ,(a[1]))\n",
    "  \n",
    "    # Throws error since there are only 3 elements in array\n",
    "    print(\"Fourth element = \" ,(a[3])) \n",
    "  \n",
    "except IndexError:\n",
    "    print(\"An error occurred\")"
   ]
  },
  {
   "cell_type": "code",
   "execution_count": 12,
   "id": "a7baea6c",
   "metadata": {},
   "outputs": [
    {
     "name": "stdout",
     "output_type": "stream",
     "text": [
      "\n",
      "Error Occurred and Handled\n"
     ]
    }
   ],
   "source": [
    "\n",
    "# Program to handle multiple errors with one except statement\n",
    "try : \n",
    "    a = 3\n",
    "    if a < 4 :\n",
    "  \n",
    "        # throws ZeroDivisionError for a = 3 \n",
    "        b = a/(a-3)\n",
    "      \n",
    "    # throws NameError if a >= 4\n",
    "    print(\"Value of b = \", b)\n",
    "  \n",
    "# note that braces () are necessary here for multiple exceptions\n",
    "except(ZeroDivisionError, NameError):\n",
    "    print(\"\\nError Occurred and Handled\")"
   ]
  },
  {
   "cell_type": "code",
   "execution_count": 14,
   "id": "d12d01a8",
   "metadata": {},
   "outputs": [
    {
     "name": "stdout",
     "output_type": "stream",
     "text": [
      "-5.0\n",
      "a/b result in 0\n"
     ]
    }
   ],
   "source": [
    "# Program to depict else clause with try-except\n",
    "  \n",
    "# Function which returns a/b\n",
    "def AbyB(a, b):\n",
    "    try:\n",
    "        c = ((a+b) / (a-b))\n",
    "    except ZeroDivisionError:\n",
    "        print(\"a/b result in 0\")\n",
    "    else:\n",
    "        print(c)\n",
    "  \n",
    "# Driver program to test above function\n",
    "AbyB(2.0, 3.0)\n",
    "AbyB(3.0, 3.0)"
   ]
  },
  {
   "cell_type": "markdown",
   "id": "36031126",
   "metadata": {},
   "source": [
    "# Finally"
   ]
  },
  {
   "cell_type": "code",
   "execution_count": 15,
   "id": "5f29046c",
   "metadata": {},
   "outputs": [
    {
     "name": "stdout",
     "output_type": "stream",
     "text": [
      "Can't divide by zero\n",
      "This is always executed\n"
     ]
    }
   ],
   "source": [
    "# Python program to demonstrate finally \n",
    "    \n",
    "# No exception Exception raised in try block \n",
    "try: \n",
    "    k = 5//0 # raises divide by zero exception. \n",
    "    print(k) \n",
    "    \n",
    "# handles zerodivision exception     \n",
    "except ZeroDivisionError:    \n",
    "    print(\"Can't divide by zero\") \n",
    "        \n",
    "finally: \n",
    "    # this block is always executed  \n",
    "    # regardless of exception generation. \n",
    "    print('This is always executed') "
   ]
  },
  {
   "cell_type": "markdown",
   "id": "bdeb0b77",
   "metadata": {},
   "source": [
    "Some of the common Exception Errors are : \n",
    "\n",
    "IOError : if the file can’t be opened\n",
    "\n",
    "KeyboardInterrupt : when an unrequired key is pressed by the user\n",
    "\n",
    "ValueError : when built-in function receives a wrong argument\n",
    "\n",
    "EOFError : if End-Of-File is hit without reading any data\n",
    "\n",
    "ImportError : if it is unable to find the module"
   ]
  },
  {
   "cell_type": "code",
   "execution_count": null,
   "id": "9f4e718f",
   "metadata": {},
   "outputs": [],
   "source": [
    "try:\n",
    "    # Some Code\n",
    "except:\n",
    "    # Executed if error in the\n",
    "    # try block\n",
    "    \n",
    "\n",
    "try:\n",
    "    # Some Code\n",
    "except:\n",
    "    # Executed if error in the\n",
    "    # try block\n",
    "else:\n",
    "    # execute if no exception\n",
    "    \n",
    "\n",
    "try:\n",
    "    # Some Code\n",
    "except:\n",
    "    # Executed if error in the\n",
    "    # try block\n",
    "else:\n",
    "    # execute if no exception\n",
    "finally:\n",
    "    # Some code .....(always executed)\n",
    "    "
   ]
  },
  {
   "cell_type": "markdown",
   "id": "05a5ae17",
   "metadata": {},
   "source": [
    "# Built in Exceptions\n",
    "## Base class exception"
   ]
  },
  {
   "cell_type": "markdown",
   "id": "b88d98cb",
   "metadata": {},
   "source": [
    "1. exception BaseException\n",
    "2. exception Exception\n",
    "3. exception ArithmeticError\n",
    "    - OverflowError\n",
    "    - ZeroDivisionError\n",
    "    - FloatingPointError\n",
    "4. exception BufferError\n",
    "5. exception LookupError\n",
    "    - KeyError\n",
    "    - IndexError\n"
   ]
  },
  {
   "cell_type": "markdown",
   "id": "a90a44ca",
   "metadata": {},
   "source": [
    "## Concrete exceptions"
   ]
  },
  {
   "cell_type": "markdown",
   "id": "996ac961",
   "metadata": {},
   "source": [
    "1. exception AssertionError\n",
    "2. exception AttributeError\n",
    "3. exception EOFError\n",
    "4. exception FloatingPointError\n",
    "5. exception GeneratorExit\n",
    "6. exception ImportError\n",
    "7. exception ModuleNotFoundError\n",
    "8. exception KeyError"
   ]
  },
  {
   "cell_type": "markdown",
   "id": "7051b81d",
   "metadata": {},
   "source": [
    "# User-defined Exceptions"
   ]
  },
  {
   "cell_type": "markdown",
   "id": "66ae9ee6",
   "metadata": {},
   "source": [
    "Programmers may name their own exceptions by creating a new exception class. Exceptions need to be derived from the Exception class, either directly or indirectly. Although not mandatory, most of the exceptions are named as names that end in “Error” similar to naming of the standard exceptions in python. For example:"
   ]
  },
  {
   "cell_type": "code",
   "execution_count": 16,
   "id": "c7e9460e",
   "metadata": {},
   "outputs": [
    {
     "name": "stdout",
     "output_type": "stream",
     "text": [
      "A New Exception occured:  6\n"
     ]
    }
   ],
   "source": [
    "\n",
    "# A python program to create user-defined exception\n",
    "  \n",
    "# class MyError is derived from super class Exception\n",
    "class MyError(Exception):\n",
    "  \n",
    "    # Constructor or Initializer\n",
    "    def __init__(self, value):\n",
    "        self.value = value\n",
    "  \n",
    "    # __str__ is to print() the value\n",
    "    def __str__(self):\n",
    "        return(repr(self.value))\n",
    "  \n",
    "try:\n",
    "    raise(MyError(3*2))\n",
    "  \n",
    "# Value of Exception is stored in error\n",
    "except MyError as error:\n",
    "    print('A New Exception occured: ',error.value)"
   ]
  },
  {
   "cell_type": "code",
   "execution_count": null,
   "id": "213f23ce",
   "metadata": {},
   "outputs": [],
   "source": []
  }
 ],
 "metadata": {
  "kernelspec": {
   "display_name": "Python 3",
   "language": "python",
   "name": "python3"
  },
  "language_info": {
   "codemirror_mode": {
    "name": "ipython",
    "version": 3
   },
   "file_extension": ".py",
   "mimetype": "text/x-python",
   "name": "python",
   "nbconvert_exporter": "python",
   "pygments_lexer": "ipython3",
   "version": "3.7.6"
  },
  "toc": {
   "base_numbering": 1,
   "nav_menu": {},
   "number_sections": true,
   "sideBar": true,
   "skip_h1_title": false,
   "title_cell": "Table of Contents",
   "title_sidebar": "Contents",
   "toc_cell": false,
   "toc_position": {},
   "toc_section_display": true,
   "toc_window_display": false
  }
 },
 "nbformat": 4,
 "nbformat_minor": 5
}
